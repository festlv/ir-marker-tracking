{
 "cells": [
  {
   "cell_type": "markdown",
   "metadata": {},
   "source": [
    "Tracking a marker in 3D using two cameras\n",
    "--------------------------------------------------\n",
    "\n",
    "First the point to track is extracted from both images. The pixel coordinates are converted to angles (using camera's vertical/horizontal FOV and resolution).\n",
    "\n",
    "After that, high-school level trigonometry is applied to find out points coordinates.\n",
    "\n",
    "$P_y$ distance from camera plane to point, $P_x$ distance from left camera to object (left-right plane), $P_z$ height from left camera.\n",
    "\n",
    "![title](xy_plane.svg)"
   ]
  },
  {
   "cell_type": "markdown",
   "metadata": {},
   "source": [
    "Given pixel's image coordinates $(I_x, I_y)$, camera vertical and horizontal FOV $FOV_h, FOV_v$, vertical and horizontal resolution $RES_v, RES_h$ the horizontal $\\phi_h$ and vertical $\\phi_v$ angles can be calculated as follows\n",
    "\n",
    "\n",
    "$$\\phi_h = \\frac{180 - FOV_h}{2} + \\frac{FOV_h}{RES_h} \\times (RES_h - I_x)$$\n",
    "$$\\phi_h = \\frac{180 - FOV_v}{2} + \\frac{FOV_v}{RES_v} \\times (RES_v - I_y)$$\n"
   ]
  },
  {
   "cell_type": "code",
   "execution_count": 11,
   "metadata": {
    "collapsed": false
   },
   "outputs": [
    {
     "name": "stdout",
     "output_type": "stream",
     "text": [
      "46.25\n",
      "138.4375\n",
      "46.25\n"
     ]
    }
   ],
   "source": [
    "\"\"\"Sanity checks for angles in different places of image\"\"\"\n",
    "FOV_h = 100\n",
    "RES_h = 640\n",
    "I_x = 320\n",
    "\n",
    "phi_x = (180 - FOV_h) / 2 + (FOV_h/RES_h) * (RES_h - I_x)\n",
    "print(phi) # 90\n",
    "\n",
    "I_x = 10\n",
    "phi = (180 - FOV_h) / 2 + (FOV_h/RES_h) * (RES_h - I_x)\n",
    "print(phi) # >> 90\n",
    "\n",
    "I_x = 600\n",
    "phi = (180 - FOV_h) / 2 + (FOV_h/RES_h) * (RES_h - I_x)\n",
    "print(phi) # << 90"
   ]
  },
  {
   "cell_type": "markdown",
   "metadata": {},
   "source": [
    "Distance from camera plane to point along Y axis (P to O in image above)\n",
    "\n",
    "$$P_y = PO$$\n",
    "\n",
    "\\begin{equation}\n",
    "P_y = \\frac{D}{\\frac{1}{tan(\\alpha)} + \\frac{1}{tan(\\beta)}}\n",
    "\\end{equation}\n",
    "\n",
    "Distance from camera plane to point along X axis (P to O in image above)\n",
    "\n",
    "$$P_x = LD$$\n",
    "\n",
    "\\begin{equation}\n",
    "P_x = D - \\frac{tan(\\alpha) \\times D}{tan(\\alpha) + tan(\\beta)}\n",
    "\\end{equation}"
   ]
  },
  {
   "cell_type": "markdown",
   "metadata": {},
   "source": [
    "On YZ plane, $P_z$ is height of the object. $P_y$ is given (from equations above).\n",
    "\n",
    "![title](zy_plane.svg)\n",
    "\n",
    "$$P_z = \\frac{P_y}{sin(\\theta)}$$\n"
   ]
  }
 ],
 "metadata": {
  "kernelspec": {
   "display_name": "Python 3",
   "language": "python",
   "name": "python3"
  },
  "language_info": {
   "codemirror_mode": {
    "name": "ipython",
    "version": 3
   },
   "file_extension": ".py",
   "mimetype": "text/x-python",
   "name": "python",
   "nbconvert_exporter": "python",
   "pygments_lexer": "ipython3",
   "version": "3.5.0"
  }
 },
 "nbformat": 4,
 "nbformat_minor": 0
}
